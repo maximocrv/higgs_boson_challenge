{
 "cells": [
  {
   "cell_type": "code",
   "execution_count": 27,
   "metadata": {},
   "outputs": [
    {
     "name": "stdout",
     "output_type": "stream",
     "text": [
      "The autoreload extension is already loaded. To reload it, use:\n",
      "  %reload_ext autoreload\n"
     ]
    }
   ],
   "source": [
    "# Useful starting lines\n",
    "%matplotlib inline\n",
    "import numpy as np\n",
    "import matplotlib.pyplot as plt\n",
    "%load_ext autoreload\n",
    "%autoreload 2"
   ]
  },
  {
   "cell_type": "markdown",
   "metadata": {},
   "source": [
    "# 1 Least squares and linear basis functions models\n",
    "## 1.1 Least squares"
   ]
  },
  {
   "cell_type": "code",
   "execution_count": 226,
   "metadata": {},
   "outputs": [],
   "source": [
    "def least_squares(y, tx):\n",
    "    \"\"\"calculate the least squares solution.\"\"\"\n",
    "    w = np.linalg.solve(tx.transpose() @ tx, tx.transpose() @ y)\n",
    "    mse = 1/2/y.shape[0] * np.sum((y - tx@w)**2, axis=0)\n",
    "    rmse = np.sqrt(2*mse)\n",
    "    #np.linalg.inv was giving problems here, watch out!!\n",
    "    return rmse, w"
   ]
  },
  {
   "cell_type": "code",
   "execution_count": 243,
   "metadata": {},
   "outputs": [],
   "source": [
    "from helpers import *\n",
    "height, weight, gender = load_data_from_ex02(sub_sample=False, add_outlier=False)\n",
    "x, mean_x, std_x = standardize(height)\n",
    "y, tx = build_model_data(x, weight)\n",
    "# np.linalg.inv(tx.transpose() @ tx) @ tx.transpose() @ y"
   ]
  },
  {
   "cell_type": "markdown",
   "metadata": {},
   "source": [
    "### Load the data\n",
    "Here we will reuse the dataset `height_weight_genders.csv` from previous exercise section to check the correctness of your implementation. Please compare it with your previous result."
   ]
  },
  {
   "cell_type": "code",
   "execution_count": 228,
   "metadata": {},
   "outputs": [],
   "source": [
    "from helpers import *\n",
    "from grad_descent_ex02 import *\n",
    "\n",
    "def test_your_least_squares():\n",
    "    height, weight, gender = load_data_from_ex02(sub_sample=False, add_outlier=False)\n",
    "    x, mean_x, std_x = standardize(height)\n",
    "    y, tx = build_model_data(x, weight)\n",
    "    \n",
    "    mse_ls, w_ls = least_squares(y,tx)\n",
    "    \n",
    "    mse_gd, w_gd = gradient_descent(y, tx, np.array([5, 10]), max_iters=50, gamma=0.2)\n",
    "    \n",
    "    print(\"\\n\", \"Least Squares: \", (mse_ls, w_ls), \"\\n\", \"Gradient Descent: \", (mse_gd[-1], w_gd[-1]))\n",
    "    #GD loss will be half the size due to 1/2 term (simply for convenience when taking derivative, does not change\n",
    "    #optimization process)"
   ]
  },
  {
   "cell_type": "markdown",
   "metadata": {},
   "source": [
    "Test it here"
   ]
  },
  {
   "cell_type": "code",
   "execution_count": 229,
   "metadata": {},
   "outputs": [
    {
     "name": "stdout",
     "output_type": "stream",
     "text": [
      "Gradient Descent(0/49): loss=2353.4699783987517, w0=18.658784400421034, w1=10.695942486997815\n",
      "Gradient Descent(1/49): loss=1511.7597058079798, w0=29.585811920757834, w1=11.252696476596055\n",
      "Gradient Descent(2/49): loss=973.065131349887, w0=38.327433937027294, w1=11.698099668274644\n",
      "Gradient Descent(3/49): loss=628.3006036967067, w0=45.32073155004288, w1=12.054422221617513\n",
      "Gradient Descent(4/49): loss=407.6513059986707, w0=50.91536964045533, w1=12.339480264291819\n",
      "Gradient Descent(5/49): loss=266.43575547192813, w0=55.39108011278531, w1=12.56752669843126\n",
      "Gradient Descent(6/49): loss=176.0578031348124, w0=58.97164849064929, w1=12.749963845742812\n",
      "Gradient Descent(7/49): loss=118.21591363905853, w0=61.83610319294046, w1=12.895913563592057\n",
      "Gradient Descent(8/49): loss=81.1971043617761, w0=64.1276669547734, w1=13.012673337871451\n",
      "Gradient Descent(9/49): loss=57.50506642431533, w0=65.96091796423977, w1=13.106081157294971\n",
      "Gradient Descent(10/49): loss=42.342162144340335, w0=67.42751877181286, w1=13.180807412833786\n",
      "Gradient Descent(11/49): loss=32.63790340515638, w0=68.60079941787131, w1=13.240588417264837\n",
      "Gradient Descent(12/49): loss=26.427177812078707, w0=69.53942393471809, w1=13.288413220809678\n",
      "Gradient Descent(13/49): loss=22.452313432508966, w0=70.2903235481955, w1=13.326673063645552\n",
      "Gradient Descent(14/49): loss=19.908400229584338, w0=70.89104323897745, w1=13.35728093791425\n",
      "Gradient Descent(15/49): loss=18.28029577971255, w0=71.371618991603, w1=13.381767237329209\n",
      "Gradient Descent(16/49): loss=17.238308931794602, w0=71.75607959370343, w1=13.401356276861176\n",
      "Gradient Descent(17/49): loss=16.57143734912714, w0=72.06364807538378, w1=13.41702750848675\n",
      "Gradient Descent(18/49): loss=16.144639536219955, w0=72.30970286072807, w1=13.42956449378721\n",
      "Gradient Descent(19/49): loss=15.871488935959352, w0=72.50654668900349, w1=13.439594082027577\n",
      "Gradient Descent(20/49): loss=15.696672551792576, w0=72.66402175162382, w1=13.447617752619871\n",
      "Gradient Descent(21/49): loss=15.584790065925834, w0=72.7900018017201, w1=13.454036689093707\n",
      "Gradient Descent(22/49): loss=15.513185274971118, w0=72.89078584179711, w1=13.459171838272775\n",
      "Gradient Descent(23/49): loss=15.467358208760102, w0=72.97141307385873, w1=13.46327995761603\n",
      "Gradient Descent(24/49): loss=15.438028886385048, w0=73.03591485950803, w1=13.466566453090634\n",
      "Gradient Descent(25/49): loss=15.419258120065015, w0=73.08751628802746, w1=13.469195649470317\n",
      "Gradient Descent(26/49): loss=15.407244829620195, w0=73.12879743084301, w1=13.471299006574062\n",
      "Gradient Descent(27/49): loss=15.399556323735506, w0=73.16182234509544, w1=13.47298169225706\n",
      "Gradient Descent(28/49): loss=15.394635679969308, w0=73.18824227649739, w1=13.474327840803458\n",
      "Gradient Descent(29/49): loss=15.391486467958941, w0=73.20937822161895, w1=13.475404759640575\n",
      "Gradient Descent(30/49): loss=15.389470972272306, w0=73.2262869777162, w1=13.47626629471027\n",
      "Gradient Descent(31/49): loss=15.388181055032861, w0=73.239813982594, w1=13.476955522766024\n",
      "Gradient Descent(32/49): loss=15.387355507999615, w0=73.25063558649624, w1=13.47750690521063\n",
      "Gradient Descent(33/49): loss=15.386827157898338, w0=73.25929286961804, w1=13.477948011166314\n",
      "Gradient Descent(34/49): loss=15.386489013833518, w0=73.26621869611547, w1=13.478300895930861\n",
      "Gradient Descent(35/49): loss=15.386272601632038, w0=73.27175935731341, w1=13.478583203742499\n",
      "Gradient Descent(36/49): loss=15.386134097823088, w0=73.27619188627177, w1=13.478809049991808\n",
      "Gradient Descent(37/49): loss=15.38604545538536, w0=73.27973790943845, w1=13.478989726991257\n",
      "Gradient Descent(38/49): loss=15.385988724225212, w0=73.2825747279718, w1=13.479134268590816\n",
      "Gradient Descent(39/49): loss=15.385952416282722, w0=73.28484418279848, w1=13.479249901870462\n",
      "Gradient Descent(40/49): loss=15.385929179199527, w0=73.28665974665982, w1=13.47934240849418\n",
      "Gradient Descent(41/49): loss=15.385914307466281, w0=73.2881121977489, w1=13.479416413793153\n",
      "Gradient Descent(42/49): loss=15.385904789557003, w0=73.28927415862016, w1=13.479475618032332\n",
      "Gradient Descent(43/49): loss=15.38589869809507, w0=73.29020372731716, w1=13.479522981423676\n",
      "Gradient Descent(44/49): loss=15.385894799559427, w0=73.29094738227477, w1=13.47956087213675\n",
      "Gradient Descent(45/49): loss=15.38589230449662, w0=73.29154230624086, w1=13.479591184707209\n",
      "Gradient Descent(46/49): loss=15.385890707656419, w0=73.29201824541373, w1=13.479615434763577\n",
      "Gradient Descent(47/49): loss=15.385889685678693, w0=73.29239899675203, w1=13.479634834808671\n",
      "Gradient Descent(48/49): loss=15.385889031612946, w0=73.29270359782267, w1=13.479650354844747\n",
      "Gradient Descent(49/49): loss=15.38588861301087, w0=73.29294727867916, w1=13.479662770873608\n",
      "\n",
      " Least Squares:  (5.54723135786302, array([73.293922  , 13.47971243])) \n",
      " Gradient Descent:  (15.38588861301087, array([73.29294728, 13.47966277]))\n"
     ]
    }
   ],
   "source": [
    "test_your_least_squares()"
   ]
  },
  {
   "cell_type": "markdown",
   "metadata": {},
   "source": [
    "## 1.2 Least squares with a linear basis function model\n",
    "Start from this section, we will use the dataset `dataEx3.csv`.\n",
    "\n",
    "### Implement polynomial basis functions"
   ]
  },
  {
   "cell_type": "code",
   "execution_count": 247,
   "metadata": {
    "scrolled": true
   },
   "outputs": [
    {
     "name": "stdout",
     "output_type": "stream",
     "text": [
      "shape of x (50,)\n",
      "shape of y (50,)\n"
     ]
    }
   ],
   "source": [
    "# load dataset\n",
    "x, y = load_data()\n",
    "print(\"shape of x {}\".format(x.shape))\n",
    "print(\"shape of y {}\".format(y.shape))"
   ]
  },
  {
   "cell_type": "code",
   "execution_count": 248,
   "metadata": {},
   "outputs": [],
   "source": [
    "def build_poly(x, degree):\n",
    "    \"\"\"polynomial basis functions for input data x, for j=0 up to j=degree.\"\"\"\n",
    "    x = np.tile(np.array(x), (degree+1, 1)).transpose()\n",
    "    pwrs = np.arange(0, degree+1)\n",
    "    x = x**pwrs\n",
    "    return x"
   ]
  },
  {
   "cell_type": "markdown",
   "metadata": {},
   "source": [
    "Let us play with polynomial regression. Note that we will use your implemented function `compute_mse`. Please copy and paste your implementation from exercise02."
   ]
  },
  {
   "cell_type": "code",
   "execution_count": 249,
   "metadata": {},
   "outputs": [],
   "source": [
    "from plots import *\n",
    "\n",
    "def polynomial_regression():\n",
    "    \"\"\"Constructing the polynomial basis function expansion of the data,\n",
    "       and then running least squares regression.\"\"\"\n",
    "    # define parameters\n",
    "    degrees = [1, 3, 7, 12]\n",
    "    \n",
    "    # define the structure of the figure\n",
    "    num_row = 2\n",
    "    num_col = 2\n",
    "    f, axs = plt.subplots(num_row, num_col)\n",
    "\n",
    "    for ind, degree in enumerate(degrees):\n",
    "        tx = build_poly(x, degree)\n",
    "        \n",
    "        rmse, weights = least_squares(y, tx)\n",
    "        \n",
    "\n",
    "        print(\"Processing {i}th experiment, degree={d}, rmse={loss}\".format(\n",
    "              i=ind + 1, d=degree, loss=rmse))\n",
    "        # plot fit\n",
    "        plot_fitted_curve(\n",
    "            y, x, weights, degree, axs[ind // num_col][ind % num_col])\n",
    "    plt.tight_layout()\n",
    "    plt.savefig(\"visualize_polynomial_regression\")\n",
    "    plt.show()"
   ]
  },
  {
   "cell_type": "markdown",
   "metadata": {},
   "source": [
    "Run polynomial regression"
   ]
  },
  {
   "cell_type": "code",
   "execution_count": 250,
   "metadata": {},
   "outputs": [
    {
     "name": "stdout",
     "output_type": "stream",
     "text": [
      "Processing 1th experiment, degree=1, rmse=0.47187607963421874\n",
      "Processing 2th experiment, degree=3, rmse=0.25858277667737484\n",
      "Processing 3th experiment, degree=7, rmse=0.24965870360907327\n",
      "Processing 4th experiment, degree=12, rmse=0.24328247483727986\n"
     ]
    },
    {
     "data": {
      "image/png": "[encoded data removed]",
      "text/plain": [
       "<Figure size 432x288 with 4 Axes>"
      ]
     },
     "metadata": {
      "needs_background": "light"
     },
     "output_type": "display_data"
    }
   ],
   "source": [
    "polynomial_regression()\n",
    "#Best model seems to be 3rd order polynomial. Simplest model that fits the data and RMSE comparable to that of 7th and\n",
    "# 12th order models"
   ]
  },
  {
   "cell_type": "markdown",
   "metadata": {},
   "source": [
    "# 2 Evaluating model predication performance\n",
    "\n",
    "\n",
    "Let us show the train and test splits for various polynomial degrees. First of all, please fill in the function `split_data()`"
   ]
  },
  {
   "cell_type": "code",
   "execution_count": 251,
   "metadata": {},
   "outputs": [],
   "source": [
    "def split_data(x, y, ratio, seed=1):\n",
    "    \"\"\"\n",
    "    split the dataset based on the split ratio. If ratio is 0.8 \n",
    "    you will have 80% of your data set dedicated to training \n",
    "    and the rest dedicated to testing\n",
    "    \"\"\"\n",
    "    # set seed\n",
    "    np.random.seed(seed)\n",
    "    np.random.shuffle(x)\n",
    "    np.random.shuffle(y)\n",
    "    \n",
    "    y_ind = int(ratio * len(y))\n",
    "    x_ind = int(ratio * len(x))\n",
    "    \n",
    "    xtrain, ytrain = x[:x_ind], y[:y_ind]\n",
    "    xtest, ytest = x[x_ind+1:], y[y_ind+1:]\n",
    "    \n",
    "    return (xtrain, ytrain), (xtest, ytest)"
   ]
  },
  {
   "cell_type": "markdown",
   "metadata": {},
   "source": [
    "Then, test your `split_data` function below."
   ]
  },
  {
   "cell_type": "code",
   "execution_count": 258,
   "metadata": {},
   "outputs": [],
   "source": [
    "def train_test_split_demo(x, y, degree, ratio, seed):\n",
    "    \"\"\"polynomial regression with different split ratios and different degrees.\"\"\"\n",
    "    \n",
    "    train_set, test_set = split_data(x, y, ratio)\n",
    "    \n",
    "    x_train = build_poly(train_set[0], degree)\n",
    "    y_train = train_set[1]\n",
    "    \n",
    "    x_test = build_poly(test_set[0], degree)\n",
    "    y_test = test_set[1]\n",
    "    \n",
    "\n",
    "    rmse_tr, w = least_squares(y_train, x_train)\n",
    "    rmse_te = np.sqrt(1/y_test.shape[0] * np.sum((y_test - x_test@w)**2, axis=0))\n",
    "    \n",
    "    print(\"proportion={p}, degree={d}, Training RMSE={tr:.3f}, Testing RMSE={te:.3f}\".format(\n",
    "          p=ratio, d=degree, tr=rmse_tr, te=rmse_te))\n",
    "#     print(ratio)\n",
    "#     print(degree)\n",
    "#     print(rmse_te)\n",
    "#     print(rmse_tr)\n"
   ]
  },
  {
   "cell_type": "code",
   "execution_count": 259,
   "metadata": {},
   "outputs": [
    {
     "name": "stdout",
     "output_type": "stream",
     "text": [
      "proportion=0.9, degree=1, Training RMSE=0.722, Testing RMSE=0.550\n",
      "proportion=0.9, degree=3, Training RMSE=0.708, Testing RMSE=0.657\n",
      "proportion=0.9, degree=7, Training RMSE=0.611, Testing RMSE=1.324\n",
      "proportion=0.9, degree=12, Training RMSE=0.583, Testing RMSE=0.791\n",
      "proportion=0.5, degree=1, Training RMSE=0.615, Testing RMSE=0.815\n",
      "proportion=0.5, degree=3, Training RMSE=0.757, Testing RMSE=0.685\n",
      "proportion=0.5, degree=7, Training RMSE=0.512, Testing RMSE=0.933\n",
      "proportion=0.5, degree=12, Training RMSE=0.308, Testing RMSE=2.965\n",
      "proportion=0.1, degree=1, Training RMSE=0.377, Testing RMSE=1.060\n",
      "proportion=0.1, degree=3, Training RMSE=0.227, Testing RMSE=47.509\n",
      "proportion=0.1, degree=7, Training RMSE=0.000, Testing RMSE=11.322\n",
      "proportion=0.1, degree=12, Training RMSE=0.000, Testing RMSE=10.702\n"
     ]
    }
   ],
   "source": [
    "seed = 6\n",
    "degrees = [1, 3, 7, 12]\n",
    "split_ratios = [0.9, 0.5, 0.1]\n",
    "\n",
    "for split_ratio in split_ratios:\n",
    "    for degree in degrees:\n",
    "        train_test_split_demo(x, y, degree, split_ratio, seed)"
   ]
  },
  {
   "cell_type": "markdown",
   "metadata": {},
   "source": [
    "# 3 Ridge Regression\n",
    "Please fill in the function below."
   ]
  },
  {
   "cell_type": "code",
   "execution_count": 265,
   "metadata": {},
   "outputs": [],
   "source": [
    "def ridge_regression(y, tx, lambda_):\n",
    "    \"\"\"implement ridge regression.\"\"\"\n",
    "    N = y.shape[0]\n",
    "#     print('tx: ', tx.shape, '\\n')\n",
    "#     print('N: ', N, '\\n')\n",
    "    \n",
    "    \n",
    "    a = tx.transpose() @ tx + 2*N*lambda_*np.identity(tx.shape[1])\n",
    "    b = tx.transpose() @ y\n",
    "#     w = np.linalg.solve(a, b)\n",
    "    w = np.linalg.inv(a) @ b\n",
    "    \n",
    "    mse = 1/2/N * np.sum((y - tx@w)**2, axis=0)\n",
    "    rmse = np.sqrt(2*mse)\n",
    "    \n",
    "    return rmse, w"
   ]
  },
  {
   "cell_type": "code",
   "execution_count": 266,
   "metadata": {},
   "outputs": [
    {
     "name": "stdout",
     "output_type": "stream",
     "text": [
      "rmse_ls:  0.6866042707173875 w_ls:  [-8.10860002e-01  4.28680520e+00 -7.51910083e+00  5.61726378e+00\n",
      " -2.13581591e+00  4.36205470e-01 -4.55749230e-02  1.90949906e-03] \n",
      " rmse_r:  0.6866042707173784 w_r:  [-8.10859996e-01  4.28680519e+00 -7.51910083e+00  5.61726378e+00\n",
      " -2.13581591e+00  4.36205470e-01 -4.55749230e-02  1.90949906e-03]\n"
     ]
    }
   ],
   "source": [
    "x_poly = build_poly(x, 7)\n",
    "\n",
    "rmse_ls, w_ls = least_squares(y, x_poly)\n",
    "rmse_r, w_r = ridge_regression(y, x_poly, 0)\n",
    "\n",
    "print('rmse_ls: ', rmse_ls, 'w_ls: ', w_ls, '\\n',\n",
    "     'rmse_r: ', rmse_r, 'w_r: ', w_r)"
   ]
  },
  {
   "cell_type": "code",
   "execution_count": 267,
   "metadata": {},
   "outputs": [],
   "source": [
    "def ridge_regression_demo(x, y, degree, ratio, seed):\n",
    "    \"\"\"ridge regression demo.\"\"\"\n",
    "    # define parameter\n",
    "    lambdas = np.logspace(-5, 0, 15)\n",
    "    \n",
    "    train_set, test_set = split_data(x, y, ratio)\n",
    "    \n",
    "    x_train = build_poly(train_set[0], degree)\n",
    "    y_train = train_set[1]\n",
    "    \n",
    "    x_test = build_poly(test_set[0], degree)\n",
    "    y_test = test_set[1]\n",
    "\n",
    "    rmse_tr = []\n",
    "    rmse_te = []\n",
    "    for ind, lambda_ in enumerate(lambdas):\n",
    "        _rmse_tr, w = ridge_regression(y_train, x_train, lambda_)\n",
    "        _rmse_te = np.sqrt(1/y_test.shape[0] * np.sum((y_test - x_test@w)**2, axis=0))\n",
    "        \n",
    "        rmse_tr.append(_rmse_tr)\n",
    "        rmse_te.append(_rmse_te)\n",
    "        print(\"proportion={p}, degree={d}, lambda={l:.3f}, Training RMSE={tr:.3f}, Testing RMSE={te:.3f}\".format(\n",
    "               p=ratio, d=degree, l=lambda_, tr=rmse_tr[ind], te=rmse_te[ind]))\n",
    "        \n",
    "    # Plot the obtained results\n",
    "    plot_train_test(rmse_tr, rmse_te, lambdas, degree)\n",
    "\n"
   ]
  },
  {
   "cell_type": "code",
   "execution_count": 268,
   "metadata": {},
   "outputs": [
    {
     "name": "stdout",
     "output_type": "stream",
     "text": [
      "proportion=0.5, degree=7, lambda=0.000, Training RMSE=0.607, Testing RMSE=0.703\n",
      "proportion=0.5, degree=7, lambda=0.000, Training RMSE=0.608, Testing RMSE=0.708\n",
      "proportion=0.5, degree=7, lambda=0.000, Training RMSE=0.610, Testing RMSE=0.716\n",
      "proportion=0.5, degree=7, lambda=0.000, Training RMSE=0.611, Testing RMSE=0.726\n",
      "proportion=0.5, degree=7, lambda=0.000, Training RMSE=0.613, Testing RMSE=0.737\n",
      "proportion=0.5, degree=7, lambda=0.001, Training RMSE=0.614, Testing RMSE=0.750\n",
      "proportion=0.5, degree=7, lambda=0.001, Training RMSE=0.617, Testing RMSE=0.767\n",
      "proportion=0.5, degree=7, lambda=0.003, Training RMSE=0.620, Testing RMSE=0.779\n",
      "proportion=0.5, degree=7, lambda=0.007, Training RMSE=0.625, Testing RMSE=0.778\n",
      "proportion=0.5, degree=7, lambda=0.016, Training RMSE=0.631, Testing RMSE=0.765\n",
      "proportion=0.5, degree=7, lambda=0.037, Training RMSE=0.640, Testing RMSE=0.751\n",
      "proportion=0.5, degree=7, lambda=0.085, Training RMSE=0.650, Testing RMSE=0.748\n",
      "proportion=0.5, degree=7, lambda=0.193, Training RMSE=0.661, Testing RMSE=0.756\n",
      "proportion=0.5, degree=7, lambda=0.439, Training RMSE=0.670, Testing RMSE=0.770\n",
      "proportion=0.5, degree=7, lambda=1.000, Training RMSE=0.676, Testing RMSE=0.783\n"
     ]
    },
    {
     "data": {
      "image/png": "[encoded data removed]",
      "text/plain": [
       "<Figure size 432x288 with 1 Axes>"
      ]
     },
     "metadata": {
      "needs_background": "light"
     },
     "output_type": "display_data"
    }
   ],
   "source": [
    "seed = 56\n",
    "degree = 7\n",
    "split_ratio = 0.5\n",
    "ridge_regression_demo(x, y, degree, split_ratio, seed)"
   ]
  },
  {
   "cell_type": "code",
   "execution_count": null,
   "metadata": {},
   "outputs": [],
   "source": []
  }
 ],
 "metadata": {
  "anaconda-cloud": {},
  "kernelspec": {
   "display_name": "Python 3",
   "language": "python",
   "name": "python3"
  },
  "language_info": {
   "codemirror_mode": {
    "name": "ipython",
    "version": 3
   },
   "file_extension": ".py",
   "mimetype": "text/x-python",
   "name": "python",
   "nbconvert_exporter": "python",
   "pygments_lexer": "ipython3",
   "version": "3.7.4"
  }
 },
 "nbformat": 4,
 "nbformat_minor": 1
}
