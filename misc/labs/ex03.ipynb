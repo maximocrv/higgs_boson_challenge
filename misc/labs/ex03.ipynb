{
 "cells": [
  {
   "cell_type": "code",
   "execution_count": 127,
   "metadata": {},
   "outputs": [
    {
     "name": "stdout",
     "output_type": "stream",
     "text": [
      "The autoreload extension is already loaded. To reload it, use:\n",
      "  %reload_ext autoreload\n"
     ]
    }
   ],
   "source": [
    "# Useful starting lines\n",
    "%matplotlib inline\n",
    "import numpy as np\n",
    "import matplotlib.pyplot as plt\n",
    "%load_ext autoreload\n",
    "%autoreload 2"
   ]
  },
  {
   "cell_type": "markdown",
   "metadata": {},
   "source": [
    "# 1 Least squares and linear basis functions models\n",
    "## 1.1 Least squares"
   ]
  },
  {
   "cell_type": "code",
   "execution_count": 128,
   "metadata": {},
   "outputs": [],
   "source": [
    "def compute_mse(y, tx, w):\n",
    "    e = y - tx @ w\n",
    "    return 1/2 * np.mean(e**2)\n",
    "\n",
    "def compute_rmse(y, tx, w):\n",
    "    mse = compute_mse(y, tx, w)\n",
    "    return np.sqrt(2*mse)\n",
    "\n",
    "def least_squares(y, tx):\n",
    "    \"\"\"calculate the least squares solution.\"\"\"\n",
    "    a = tx.T @ tx\n",
    "    b = tx.T @ y\n",
    "    w = np.linalg.solve(a,b)\n",
    "    mse = compute_mse(y, tx, w)\n",
    "    rmse = compute_rmse(y, tx, w)\n",
    "    return mse, w"
   ]
  },
  {
   "cell_type": "markdown",
   "metadata": {},
   "source": [
    "### Load the data\n",
    "Here we will reuse the dataset `height_weight_genders.csv` from previous exercise section to check the correctness of your implementation. Please compare it with your previous result."
   ]
  },
  {
   "cell_type": "code",
   "execution_count": 129,
   "metadata": {},
   "outputs": [],
   "source": [
    "from helpers import *\n",
    "from grad_descent_ex02 import *\n",
    "\n",
    "def test_your_least_squares():\n",
    "    height, weight, gender = load_data_from_ex02(sub_sample=False, add_outlier=False)\n",
    "    x, mean_x, std_x = standardize(height)\n",
    "    y, tx = build_model_data(x, weight)\n",
    "    \n",
    "    mse_ls, w_ls = least_squares(y,tx)\n",
    "    \n",
    "    mse_gd, w_gd = gradient_descent(y, tx, np.array([5, 10]), max_iters=50, gamma=0.2)\n",
    "    \n",
    "    print(\"\\n\", \"Least Squares: \", (mse_ls, w_ls), \"\\n\", \"Gradient Descent: \", (mse_gd[-1], w_gd[-1]))\n",
    "    #GD loss will be half the size due to 1/2 term (simply for convenience when taking derivative, does not change\n",
    "    #optimization process)"
   ]
  },
  {
   "cell_type": "markdown",
   "metadata": {},
   "source": [
    "Test it here"
   ]
  },
  {
   "cell_type": "code",
   "execution_count": 130,
   "metadata": {},
   "outputs": [
    {
     "name": "stdout",
     "output_type": "stream",
     "text": [
      "Gradient Descent(0/49): loss=2353.4699783987517, w0=18.658784400421034, w1=10.695942486997815\n",
      "Gradient Descent(1/49): loss=1511.7597058079798, w0=29.585811920757834, w1=11.252696476596055\n",
      "Gradient Descent(2/49): loss=973.065131349887, w0=38.327433937027294, w1=11.698099668274644\n",
      "Gradient Descent(3/49): loss=628.3006036967067, w0=45.32073155004288, w1=12.054422221617513\n",
      "Gradient Descent(4/49): loss=407.6513059986707, w0=50.91536964045533, w1=12.339480264291819\n",
      "Gradient Descent(5/49): loss=266.43575547192813, w0=55.39108011278531, w1=12.56752669843126\n",
      "Gradient Descent(6/49): loss=176.0578031348124, w0=58.97164849064929, w1=12.749963845742812\n",
      "Gradient Descent(7/49): loss=118.21591363905853, w0=61.83610319294046, w1=12.895913563592057\n",
      "Gradient Descent(8/49): loss=81.1971043617761, w0=64.1276669547734, w1=13.012673337871451\n",
      "Gradient Descent(9/49): loss=57.50506642431533, w0=65.96091796423977, w1=13.106081157294971\n",
      "Gradient Descent(10/49): loss=42.342162144340335, w0=67.42751877181286, w1=13.180807412833786\n",
      "Gradient Descent(11/49): loss=32.63790340515638, w0=68.60079941787131, w1=13.240588417264837\n",
      "Gradient Descent(12/49): loss=26.427177812078707, w0=69.53942393471809, w1=13.288413220809678\n",
      "Gradient Descent(13/49): loss=22.452313432508966, w0=70.2903235481955, w1=13.326673063645552\n",
      "Gradient Descent(14/49): loss=19.908400229584338, w0=70.89104323897745, w1=13.35728093791425\n",
      "Gradient Descent(15/49): loss=18.28029577971255, w0=71.371618991603, w1=13.381767237329209\n",
      "Gradient Descent(16/49): loss=17.238308931794602, w0=71.75607959370343, w1=13.401356276861176\n",
      "Gradient Descent(17/49): loss=16.57143734912714, w0=72.06364807538378, w1=13.41702750848675\n",
      "Gradient Descent(18/49): loss=16.144639536219955, w0=72.30970286072807, w1=13.42956449378721\n",
      "Gradient Descent(19/49): loss=15.871488935959352, w0=72.50654668900349, w1=13.439594082027577\n",
      "Gradient Descent(20/49): loss=15.696672551792576, w0=72.66402175162382, w1=13.447617752619871\n",
      "Gradient Descent(21/49): loss=15.584790065925834, w0=72.7900018017201, w1=13.454036689093707\n",
      "Gradient Descent(22/49): loss=15.513185274971118, w0=72.89078584179711, w1=13.459171838272775\n",
      "Gradient Descent(23/49): loss=15.467358208760102, w0=72.97141307385873, w1=13.46327995761603\n",
      "Gradient Descent(24/49): loss=15.438028886385048, w0=73.03591485950803, w1=13.466566453090634\n",
      "Gradient Descent(25/49): loss=15.419258120065015, w0=73.08751628802746, w1=13.469195649470317\n",
      "Gradient Descent(26/49): loss=15.407244829620195, w0=73.12879743084301, w1=13.471299006574062\n",
      "Gradient Descent(27/49): loss=15.399556323735506, w0=73.16182234509544, w1=13.47298169225706\n",
      "Gradient Descent(28/49): loss=15.394635679969308, w0=73.18824227649739, w1=13.474327840803458\n",
      "Gradient Descent(29/49): loss=15.391486467958941, w0=73.20937822161895, w1=13.475404759640575\n",
      "Gradient Descent(30/49): loss=15.389470972272306, w0=73.2262869777162, w1=13.47626629471027\n",
      "Gradient Descent(31/49): loss=15.388181055032861, w0=73.239813982594, w1=13.476955522766024\n",
      "Gradient Descent(32/49): loss=15.387355507999615, w0=73.25063558649624, w1=13.47750690521063\n",
      "Gradient Descent(33/49): loss=15.386827157898338, w0=73.25929286961804, w1=13.477948011166314\n",
      "Gradient Descent(34/49): loss=15.386489013833518, w0=73.26621869611547, w1=13.478300895930861\n",
      "Gradient Descent(35/49): loss=15.386272601632038, w0=73.27175935731341, w1=13.478583203742499\n",
      "Gradient Descent(36/49): loss=15.386134097823088, w0=73.27619188627177, w1=13.478809049991808\n",
      "Gradient Descent(37/49): loss=15.38604545538536, w0=73.27973790943845, w1=13.478989726991257\n",
      "Gradient Descent(38/49): loss=15.385988724225212, w0=73.2825747279718, w1=13.479134268590816\n",
      "Gradient Descent(39/49): loss=15.385952416282722, w0=73.28484418279848, w1=13.479249901870462\n",
      "Gradient Descent(40/49): loss=15.385929179199527, w0=73.28665974665982, w1=13.47934240849418\n",
      "Gradient Descent(41/49): loss=15.385914307466281, w0=73.2881121977489, w1=13.479416413793153\n",
      "Gradient Descent(42/49): loss=15.385904789557003, w0=73.28927415862016, w1=13.479475618032332\n",
      "Gradient Descent(43/49): loss=15.38589869809507, w0=73.29020372731716, w1=13.479522981423676\n",
      "Gradient Descent(44/49): loss=15.385894799559427, w0=73.29094738227477, w1=13.47956087213675\n",
      "Gradient Descent(45/49): loss=15.38589230449662, w0=73.29154230624086, w1=13.479591184707209\n",
      "Gradient Descent(46/49): loss=15.385890707656419, w0=73.29201824541373, w1=13.479615434763577\n",
      "Gradient Descent(47/49): loss=15.385889685678693, w0=73.29239899675203, w1=13.479634834808671\n",
      "Gradient Descent(48/49): loss=15.385889031612946, w0=73.29270359782267, w1=13.479650354844747\n",
      "Gradient Descent(49/49): loss=15.38588861301087, w0=73.29294727867916, w1=13.479662770873608\n",
      "\n",
      " Least Squares:  (15.3858878688294, array([73.293922  , 13.47971243])) \n",
      " Gradient Descent:  (15.38588861301087, array([73.29294728, 13.47966277]))\n"
     ]
    }
   ],
   "source": [
    "test_your_least_squares()"
   ]
  },
  {
   "cell_type": "markdown",
   "metadata": {},
   "source": [
    "## 1.2 Least squares with a linear basis function model\n",
    "Start from this section, we will use the dataset `dataEx3.csv`.\n",
    "\n",
    "### Implement polynomial basis functions"
   ]
  },
  {
   "cell_type": "code",
   "execution_count": 131,
   "metadata": {
    "scrolled": true
   },
   "outputs": [
    {
     "name": "stdout",
     "output_type": "stream",
     "text": [
      "shape of x (50,)\n",
      "shape of y (50,)\n"
     ]
    }
   ],
   "source": [
    "# load dataset\n",
    "x, y = load_data()\n",
    "print(\"shape of x {}\".format(x.shape))\n",
    "print(\"shape of y {}\".format(y.shape))"
   ]
  },
  {
   "cell_type": "code",
   "execution_count": 132,
   "metadata": {},
   "outputs": [],
   "source": [
    "def build_poly(x, degree):\n",
    "    \"\"\"polynomial basis functions for input data x, for j=0 up to j=degree.\"\"\"\n",
    "    x = np.tile(np.array(x), (degree+1, 1)).transpose()\n",
    "    pwrs = np.arange(0, degree+1)\n",
    "    x = x**pwrs\n",
    "    return x"
   ]
  },
  {
   "cell_type": "markdown",
   "metadata": {},
   "source": [
    "Let us play with polynomial regression. Note that we will use your implemented function `compute_mse`. Please copy and paste your implementation from exercise02."
   ]
  },
  {
   "cell_type": "code",
   "execution_count": 133,
   "metadata": {},
   "outputs": [],
   "source": [
    "from plots import *\n",
    "\n",
    "def polynomial_regression():\n",
    "    \"\"\"Constructing the polynomial basis function expansion of the data,\n",
    "       and then running least squares regression.\"\"\"\n",
    "    # define parameters\n",
    "    degrees = [1, 3, 7, 12]\n",
    "    \n",
    "    # define the structure of the figure\n",
    "    num_row = 2\n",
    "    num_col = 2\n",
    "    f, axs = plt.subplots(num_row, num_col)\n",
    "\n",
    "    for ind, degree in enumerate(degrees):\n",
    "        tx = build_poly(x, degree)\n",
    "        \n",
    "        rmse, weights = least_squares(y, tx)\n",
    "        \n",
    "\n",
    "        print(\"Processing {i}th experiment, degree={d}, rmse={loss}\".format(\n",
    "              i=ind + 1, d=degree, loss=rmse))\n",
    "        # plot fit\n",
    "        plot_fitted_curve(\n",
    "            y, x, weights, degree, axs[ind // num_col][ind % num_col])\n",
    "    plt.tight_layout()\n",
    "    plt.savefig(\"visualize_polynomial_regression\")\n",
    "    plt.show()"
   ]
  },
  {
   "cell_type": "markdown",
   "metadata": {},
   "source": [
    "Run polynomial regression"
   ]
  },
  {
   "cell_type": "code",
   "execution_count": 134,
   "metadata": {},
   "outputs": [
    {
     "name": "stdout",
     "output_type": "stream",
     "text": [
      "Processing 1th experiment, degree=1, rmse=0.11133351726547978\n",
      "Processing 2th experiment, degree=3, rmse=0.033432526197090556\n",
      "Processing 3th experiment, degree=7, rmse=0.03116473414388155\n",
      "Processing 4th experiment, degree=12, rmse=0.029593181281475856\n"
     ]
    },
    {
     "data": {
      "image/png": "[encoded data removed]",
      "text/plain": [
       "<Figure size 432x288 with 4 Axes>"
      ]
     },
     "metadata": {
      "needs_background": "light"
     },
     "output_type": "display_data"
    }
   ],
   "source": [
    "polynomial_regression()\n",
    "#Best model seems to be 3rd order polynomial. Simplest model that fits the data and RMSE comparable to that of 7th and\n",
    "# 12th order models"
   ]
  },
  {
   "cell_type": "markdown",
   "metadata": {},
   "source": [
    "# 2 Evaluating model predication performance\n",
    "\n",
    "\n",
    "Let us show the train and test splits for various polynomial degrees. First of all, please fill in the function `split_data()`"
   ]
  },
  {
   "cell_type": "code",
   "execution_count": 135,
   "metadata": {},
   "outputs": [],
   "source": [
    "def split_data(x, y, ratio, seed=1):\n",
    "    \"\"\"\n",
    "    split the dataset based on the split ratio. If ratio is 0.8 \n",
    "    you will have 80% of your data set dedicated to training \n",
    "    and the rest dedicated to testing\n",
    "    \"\"\"\n",
    "    # set seed\n",
    "    np.random.seed(seed)\n",
    "    \n",
    "    split = int(ratio * x.shape[0])\n",
    "    train_ind = np.random.permutation(np.arange(x.shape[0]))[:split]\n",
    "    test_ind = np.random.permutation(np.arange(x.shape[0]))[split:]\n",
    "    \n",
    "    x_tr, y_tr = x[train_ind], y[train_ind]\n",
    "    x_te, y_te = x[test_ind], y[test_ind]\n",
    "    \n",
    "    return x_tr, y_tr, x_te, y_te"
   ]
  },
  {
   "cell_type": "markdown",
   "metadata": {},
   "source": [
    "Then, test your `split_data` function below."
   ]
  },
  {
   "cell_type": "code",
   "execution_count": 136,
   "metadata": {},
   "outputs": [],
   "source": [
    "def train_test_split_demo(x, y, degree, ratio, seed):\n",
    "    \"\"\"polynomial regression with different split ratios and different degrees.\"\"\"\n",
    "    \n",
    "    x_tr, y_tr, x_te, y_te = split_data(x, y, ratio)\n",
    "    \n",
    "    x_tr = build_poly(x_tr, degree)\n",
    "    \n",
    "    x_te = build_poly(x_te, degree)\n",
    "\n",
    "    mse_tr, w = least_squares(y_tr, x_tr)\n",
    "    rmse_tr = compute_rmse(y_tr, x_tr, w)\n",
    "    rmse_te = compute_rmse(y_te, x_te, w)\n",
    "    \n",
    "    print(\"proportion={p}, degree={d}, Training RMSE={tr:.3f}, Testing RMSE={te:.3f}\".format(\n",
    "          p=ratio, d=degree, tr=rmse_tr, te=rmse_te))"
   ]
  },
  {
   "cell_type": "code",
   "execution_count": 137,
   "metadata": {},
   "outputs": [
    {
     "name": "stdout",
     "output_type": "stream",
     "text": [
      "proportion=0.9, degree=1, Training RMSE=0.455, Testing RMSE=0.207\n",
      "proportion=0.9, degree=3, Training RMSE=0.264, Testing RMSE=0.183\n",
      "proportion=0.9, degree=7, Training RMSE=0.257, Testing RMSE=0.206\n",
      "proportion=0.9, degree=12, Training RMSE=0.248, Testing RMSE=0.168\n",
      "proportion=0.5, degree=1, Training RMSE=0.400, Testing RMSE=0.494\n",
      "proportion=0.5, degree=3, Training RMSE=0.237, Testing RMSE=0.293\n",
      "proportion=0.5, degree=7, Training RMSE=0.218, Testing RMSE=0.307\n",
      "proportion=0.5, degree=12, Training RMSE=0.213, Testing RMSE=0.315\n",
      "proportion=0.1, degree=1, Training RMSE=0.453, Testing RMSE=0.728\n",
      "proportion=0.1, degree=3, Training RMSE=0.111, Testing RMSE=0.656\n",
      "proportion=0.1, degree=7, Training RMSE=0.000, Testing RMSE=1.275\n",
      "proportion=0.1, degree=12, Training RMSE=0.000, Testing RMSE=2.816\n"
     ]
    }
   ],
   "source": [
    "seed = 6\n",
    "degrees = [1, 3, 7, 12]\n",
    "split_ratios = [0.9, 0.5, 0.1]\n",
    "\n",
    "for split_ratio in split_ratios:\n",
    "    for degree in degrees:\n",
    "        train_test_split_demo(x, y, degree, split_ratio, seed)"
   ]
  },
  {
   "cell_type": "markdown",
   "metadata": {},
   "source": [
    "# 3 Ridge Regression\n",
    "Please fill in the function below."
   ]
  },
  {
   "cell_type": "code",
   "execution_count": 138,
   "metadata": {},
   "outputs": [],
   "source": [
    "def ridge_regression(y, tx, lambda_):\n",
    "    \"\"\"implement ridge regression.\"\"\"\n",
    "    \n",
    "    a = tx.T @ tx + 2 * lambda_ * tx.shape[0] * np.eye(tx.shape[1])\n",
    "    b = tx.T @ y\n",
    "    \n",
    "    w = np.linalg.solve(a, b)\n",
    "    \n",
    "    mse = compute_mse(y, tx, w)\n",
    "    rmse = compute_rmse(y, tx, w)\n",
    "    \n",
    "    return mse, w"
   ]
  },
  {
   "cell_type": "code",
   "execution_count": 139,
   "metadata": {},
   "outputs": [],
   "source": [
    "def ridge_regression_demo(x, y, degree, ratio, seed):\n",
    "    \"\"\"ridge regression demo.\"\"\"\n",
    "    # define parameter\n",
    "    lambdas = np.logspace(-5, 0, 15)\n",
    "    \n",
    "    x_tr, y_tr, x_te, y_te = split_data(x, y, ratio, seed)\n",
    "    \n",
    "    x_tr = build_poly(x_tr, degree)\n",
    "    \n",
    "    x_te = build_poly(x_te, degree)\n",
    "    \n",
    "\n",
    "    rmse_tr = []\n",
    "    rmse_te = []\n",
    "    for ind, lambda_ in enumerate(lambdas):\n",
    "        mse_tr, w = ridge_regression(y_tr, x_tr, lambda_)\n",
    "        \n",
    "        rmse_tr.append(compute_rmse(y_tr, x_tr, w))\n",
    "        rmse_te.append(compute_rmse(y_te, x_te, w))\n",
    "        \n",
    "        print(\"proportion={p}, degree={d}, lambda={l:.3f}, Training RMSE={tr:.3f}, Testing RMSE={te:.3f}\".format(\n",
    "               p=ratio, d=degree, l=lambda_, tr=rmse_tr[ind], te=rmse_te[ind]))\n",
    "        \n",
    "    # Plot the obtained results\n",
    "    plot_train_test(rmse_tr, rmse_te, lambdas, degree)\n",
    "\n"
   ]
  },
  {
   "cell_type": "code",
   "execution_count": 140,
   "metadata": {},
   "outputs": [
    {
     "name": "stdout",
     "output_type": "stream",
     "text": [
      "proportion=0.5, degree=7, lambda=0.000, Training RMSE=0.227, Testing RMSE=0.298\n",
      "proportion=0.5, degree=7, lambda=0.000, Training RMSE=0.227, Testing RMSE=0.297\n",
      "proportion=0.5, degree=7, lambda=0.000, Training RMSE=0.227, Testing RMSE=0.297\n",
      "proportion=0.5, degree=7, lambda=0.000, Training RMSE=0.227, Testing RMSE=0.297\n",
      "proportion=0.5, degree=7, lambda=0.000, Training RMSE=0.228, Testing RMSE=0.296\n",
      "proportion=0.5, degree=7, lambda=0.001, Training RMSE=0.228, Testing RMSE=0.296\n",
      "proportion=0.5, degree=7, lambda=0.001, Training RMSE=0.229, Testing RMSE=0.293\n",
      "proportion=0.5, degree=7, lambda=0.003, Training RMSE=0.230, Testing RMSE=0.285\n",
      "proportion=0.5, degree=7, lambda=0.007, Training RMSE=0.232, Testing RMSE=0.273\n",
      "proportion=0.5, degree=7, lambda=0.016, Training RMSE=0.237, Testing RMSE=0.260\n",
      "proportion=0.5, degree=7, lambda=0.037, Training RMSE=0.246, Testing RMSE=0.260\n",
      "proportion=0.5, degree=7, lambda=0.085, Training RMSE=0.264, Testing RMSE=0.285\n",
      "proportion=0.5, degree=7, lambda=0.193, Training RMSE=0.291, Testing RMSE=0.332\n",
      "proportion=0.5, degree=7, lambda=0.439, Training RMSE=0.317, Testing RMSE=0.381\n",
      "proportion=0.5, degree=7, lambda=1.000, Training RMSE=0.336, Testing RMSE=0.417\n"
     ]
    },
    {
     "data": {
      "image/png": "[encoded data removed]",
      "text/plain": [
       "<Figure size 432x288 with 1 Axes>"
      ]
     },
     "metadata": {
      "needs_background": "light"
     },
     "output_type": "display_data"
    }
   ],
   "source": [
    "seed = 56\n",
    "degree = 7\n",
    "split_ratio = 0.5\n",
    "ridge_regression_demo(x, y, degree, split_ratio, seed)"
   ]
  }
 ],
 "metadata": {
  "anaconda-cloud": {},
  "kernelspec": {
   "display_name": "Python 3",
   "language": "python",
   "name": "python3"
  },
  "language_info": {
   "codemirror_mode": {
    "name": "ipython",
    "version": 3
   },
   "file_extension": ".py",
   "mimetype": "text/x-python",
   "name": "python",
   "nbconvert_exporter": "python",
   "pygments_lexer": "ipython3",
   "version": "3.7.4"
  }
 },
 "nbformat": 4,
 "nbformat_minor": 1
}
